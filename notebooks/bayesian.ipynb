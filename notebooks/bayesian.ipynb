{
 "cells": [
  {
   "cell_type": "markdown",
   "metadata": {},
   "source": [
    "# コイントスの例"
   ]
  },
  {
   "cell_type": "code",
   "execution_count": null,
   "metadata": {},
   "outputs": [],
   "source": [
    "import pymc3 as pm\n",
    "import numpy as np\n",
    "import matplotlib.pyplot as plt\n",
    "\n",
    "# ダミーデータの生成 (1: 表, 0: 裏)\n",
    "# ここでは100回中、60回表が出たとします。\n",
    "data = np.concatenate([np.ones(60), np.zeros(40)])\n",
    "\n",
    "with pm.Model() as coin_flip_model:\n",
    "    # 事前分布: Uniform(0, 1)\n",
    "    p = pm.Uniform(\"p\", 0, 1)\n",
    "    \n",
    "    # 尤度関数: 二項分布\n",
    "    y = pm.Binomial(\"y\", n=len(data), p=p, observed=data.sum())\n",
    "    \n",
    "    # 事後分布のサンプリング\n",
    "    trace = pm.sample(2000, tune=1000, chains=2)\n",
    "\n",
    "pm.traceplot(trace)\n",
    "plt.show()\n",
    "\n",
    "# 事後分布の平均値と95%信頼区間を表示\n",
    "pm.summary(trace).round(2)"
   ]
  },
  {
   "cell_type": "markdown",
   "metadata": {},
   "source": [
    "# コインの山から1枚コインを選びコイントスをする試行を繰り返す例"
   ]
  },
  {
   "cell_type": "markdown",
   "metadata": {},
   "source": [
    "## データ作成"
   ]
  },
  {
   "cell_type": "code",
   "execution_count": null,
   "metadata": {},
   "outputs": [],
   "source": [
    "import numpy as np\n",
    "\n",
    "np.random.seed(0)  # 結果を再現可能にするためのシード\n",
    "\n",
    "# パラメータ設定\n",
    "n_trials = 10  # 試行回数\n",
    "n_flips = 100  # 1試行あたりのコイン投げ回数\n",
    "p_true = 0.5   # コインが表になる真の確率\n",
    "\n",
    "# ダミーデータ生成\n",
    "data = np.random.binomial(n=n_flips, p=p_true, size=n_trials)\n",
    "\n",
    "print(\"各試行における表が出た回数:\")\n",
    "print(data)"
   ]
  },
  {
   "cell_type": "markdown",
   "metadata": {},
   "source": [
    "## MCMC"
   ]
  },
  {
   "cell_type": "code",
   "execution_count": null,
   "metadata": {},
   "outputs": [],
   "source": [
    "import pymc3 as pm\n",
    "import numpy as np\n",
    "\n",
    "#ダミーデータ生成 (前回のコードに基づいています)\n",
    "np.random.seed(0)\n",
    "n_trials = 10\n",
    "n_flips = 100\n",
    "p_true = 0.5\n",
    "data = np.random.binomial(n=n_flips, p=p_true, size=n_trials)\n",
    "\n",
    "with pm.Model() as hierarchical_model:\n",
    "    # ハイパーパラメータの事前分布(半コーシー分布)\n",
    "    alpha = pm.HalfCauchy('alpha', beta=1)\n",
    "    beta = pm.HalfCauchy('beta', beta=1)\n",
    "    \n",
    "    # 各コインの表が出る確率に対する事前分布(ベータ分布)\n",
    "    theta = pm.Beta('theta', alpha=alpha, beta=beta, shape=n_trials)\n",
    "    \n",
    "    # 尤度関数(二項分布)\n",
    "    y = pm.Binomial('y', n=n_flips, p=theta, observed=data)\n",
    "    \n",
    "    # サンプリング\n",
    "    trace = pm.sample(2000, tune=2000)\n",
    "\n",
    "#結果の要約とプロット\n",
    "pm.traceplot(trace)\n",
    "pm.summary(trace).round(2)\n"
   ]
  },
  {
   "cell_type": "markdown",
   "metadata": {},
   "source": [
    "## 変分ベイズ近似"
   ]
  },
  {
   "cell_type": "code",
   "execution_count": null,
   "metadata": {},
   "outputs": [],
   "source": [
    "import pymc3 as pm\n",
    "import numpy as np\n",
    "import arviz as az\n",
    "\n",
    "\n",
    "np.random.seed(0)\n",
    "n_trials = 10\n",
    "n_flips = 100\n",
    "p_true = 0.5\n",
    "data = np.random.binomial(n=n_flips, p=p_true, size=n_trials)\n",
    "\n",
    "with pm.Model() as hierarchical_model:\n",
    "    # ハイパーパラメータの事前分布(半コーシー分布)\n",
    "    alpha = pm.HalfCauchy('alpha', beta=1)\n",
    "    beta = pm.HalfCauchy('beta', beta=1)\n",
    "    \n",
    "    # 各コインの表が出る確率に対する事前分布(ベータ分布)\n",
    "    theta = pm.Beta('theta', alpha=alpha, beta=beta, shape=n_trials)\n",
    "    \n",
    "    # 尤度関数(二項分布)\n",
    "    y = pm.Binomial('y', n=n_flips, p=theta, observed=data)\n",
    "    \n",
    "    # 変分ベイズで近似\n",
    "    approx = pm.fit(n=30000, method='advi')\n",
    "\n",
    "#トレースを抽出し、プロット\n",
    "trace = approx.sample(draws=5000)\n",
    "az.plot_trace(trace)\n"
   ]
  }
 ],
 "metadata": {
  "kernelspec": {
   "display_name": ".venv",
   "language": "python",
   "name": "python3"
  },
  "language_info": {
   "codemirror_mode": {
    "name": "ipython",
    "version": 3
   },
   "file_extension": ".py",
   "mimetype": "text/x-python",
   "name": "python",
   "nbconvert_exporter": "python",
   "pygments_lexer": "ipython3",
   "version": "3.10.12"
  }
 },
 "nbformat": 4,
 "nbformat_minor": 2
}
