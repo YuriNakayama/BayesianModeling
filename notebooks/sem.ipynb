{
 "cells": [
  {
   "cell_type": "code",
   "execution_count": 7,
   "metadata": {},
   "outputs": [],
   "source": [
    "import pandas as pd\n",
    "import numpy as np\n",
    "\n",
    "from semopy import Model"
   ]
  },
  {
   "cell_type": "code",
   "execution_count": 8,
   "metadata": {},
   "outputs": [],
   "source": [
    "\n",
    "# 乱数シードの設定\n",
    "np.random.seed(123)\n",
    "\n",
    "# ダミーデータの生成\n",
    "data = pd.DataFrame()\n",
    "data['x1'] = np.random.normal(0, 1, 100)\n",
    "data['x2'] = data['x1'] * 0.5 + np.random.normal(0, 1, 100)\n",
    "data['y1'] = data['x1'] + data['x2'] + np.random.normal(0, 1, 100)\n",
    "data['y2'] = data['y1'] + np.random.normal(0, 1, 100)\n"
   ]
  },
  {
   "cell_type": "code",
   "execution_count": 9,
   "metadata": {},
   "outputs": [
    {
     "name": "stderr",
     "output_type": "stream",
     "text": [
      "WARNING:root:Fisher Information Matrix is not PD.Moore-Penrose inverse will be used instead of Cholesky decomposition. See 10.1109/TSP.2012.2208105.\n"
     ]
    },
    {
     "name": "stdout",
     "output_type": "stream",
     "text": [
      "  lval  op rval  Estimate  Std. Err    z-value   p-value\n",
      "0   x1   ~   y1  1.000000         -          -         -\n",
      "1   x2   ~   y1  0.055934  0.080282   0.696718  0.485979\n",
      "2   y1   ~   y2  1.000000         -          -         -\n",
      "3   y1   ~   x1 -0.096430  0.045288  -2.129233  0.033235\n",
      "4   y1   ~   x2  0.532010  0.092377   5.759123       0.0\n",
      "5   x1  ~~   x1  0.792723  0.030081  26.353319       0.0\n",
      "6   x2  ~~   x2  1.170818  0.072784   16.08629       0.0\n",
      "7   y1  ~~   y1  0.185125   0.02712   6.826236       0.0\n",
      "8   y2  ~~   y2  0.185125   0.02712   6.826236       0.0\n"
     ]
    }
   ],
   "source": [
    "# SEMモデルの記述\n",
    "model_spec = \"\"\"\n",
    "# Measurement model\n",
    "y1 =~ x1 + x2\n",
    "y2 =~ y1\n",
    "\n",
    "# Structural model\n",
    "y1 ~ x1 + x2\n",
    "\"\"\"\n",
    "\n",
    "# モデルのインスタンス化とフィッティング\n",
    "model = Model(model_spec)\n",
    "model.fit(data)\n",
    "\n",
    "# モデルサマリーを表示\n",
    "print(model.inspect())"
   ]
  },
  {
   "cell_type": "code",
   "execution_count": null,
   "metadata": {},
   "outputs": [],
   "source": []
  }
 ],
 "metadata": {
  "kernelspec": {
   "display_name": "base",
   "language": "python",
   "name": "python3"
  },
  "language_info": {
   "codemirror_mode": {
    "name": "ipython",
    "version": 3
   },
   "file_extension": ".py",
   "mimetype": "text/x-python",
   "name": "python",
   "nbconvert_exporter": "python",
   "pygments_lexer": "ipython3",
   "version": "3.10.6"
  },
  "orig_nbformat": 4
 },
 "nbformat": 4,
 "nbformat_minor": 2
}
